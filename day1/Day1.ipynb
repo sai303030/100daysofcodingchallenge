{
 "cells": [
  {
   "cell_type": "markdown",
   "metadata": {},
   "source": [
    "<h1>Day 1 of #100daysofcodingchallenge</h1>\n",
    "<h4>Starting From Basics of python to data sciene</h4>\n",
    "<h5>Date:21-01-2021</h5>"
   ]
  },
  {
   "cell_type": "markdown",
   "metadata": {},
   "source": [
    "<h3><pre style=\"color:indigo\"{>-->Introduction to python\n",
    "   |\n",
    "   --->BASICS</pre></h3>"
   ]
  },
  {
   "cell_type": "markdown",
   "metadata": {},
   "source": [
    "<h1> Topic1: A Good First Program </h1>"
   ]
  },
  {
   "cell_type": "code",
   "execution_count": 1,
   "metadata": {},
   "outputs": [
    {
     "name": "stdout",
     "output_type": "stream",
     "text": [
      "Hello World\n",
      "Hello Pycoders\n",
      "This is my day 1 of #100daysofcodingchallenge\n",
      "lets end this\n"
     ]
    }
   ],
   "source": [
    "print('Hello World')\n",
    "print('Hello Pycoders')\n",
    "print('This is my day 1 of #100daysofcodingchallenge')\n",
    "print('lets end this')"
   ]
  },
  {
   "cell_type": "code",
   "execution_count": null,
   "metadata": {},
   "outputs": [],
   "source": []
  },
  {
   "cell_type": "markdown",
   "metadata": {},
   "source": [
    "<p>If you are familiar with other programming languages you may be used to terminating every line with a semicolon(;).<p>\n",
    "<p>There is no need to do so in python.<p>\n",
    "<h4>A line is a line,MORE or LESS</h4><br>\n",
    "you may add a semicolon if you like,but it wont have any effect (unless more code follows on same line),and it is not common thing to do so"
   ]
  },
  {
   "cell_type": "code",
   "execution_count": null,
   "metadata": {},
   "outputs": [],
   "source": []
  },
  {
   "cell_type": "markdown",
   "metadata": {},
   "source": [
    "<h1>Topic2:Python Operators </h1>\n",
    "\n",
    "--->The Interactive Python Interpreter can be used as a powerful calculator\n",
    "\n",
    "<pre>\n",
    "\n",
    "\n",
    "LETS TRY \n",
    " <h3>1.Arithmetic Opearators</h3> </pre>"
   ]
  },
  {
   "cell_type": "code",
   "execution_count": 4,
   "metadata": {},
   "outputs": [
    {
     "data": {
      "text/plain": [
       "4"
      ]
     },
     "execution_count": 4,
     "metadata": {},
     "output_type": "execute_result"
    }
   ],
   "source": [
    "2+2\n",
    "#adding 2 integer values \n",
    "#this line and above line wont get executed these are comments starts with # we will talk about this later"
   ]
  },
  {
   "cell_type": "code",
   "execution_count": 5,
   "metadata": {},
   "outputs": [
    {
     "data": {
      "text/plain": [
       "5.0"
      ]
     },
     "execution_count": 5,
     "metadata": {},
     "output_type": "execute_result"
    }
   ],
   "source": [
    "3.0+2\n",
    "#float and int addition gives a float number as output"
   ]
  },
  {
   "cell_type": "code",
   "execution_count": 6,
   "metadata": {},
   "outputs": [
    {
     "data": {
      "text/plain": [
       "2.0"
      ]
     },
     "execution_count": 6,
     "metadata": {},
     "output_type": "execute_result"
    }
   ],
   "source": [
    "#lets see divison and floor division\n",
    "14/7"
   ]
  },
  {
   "cell_type": "code",
   "execution_count": 7,
   "metadata": {},
   "outputs": [
    {
     "data": {
      "text/plain": [
       "2"
      ]
     },
     "execution_count": 7,
     "metadata": {},
     "output_type": "execute_result"
    }
   ],
   "source": [
    "#see its printing 2.0 instead of 2 . Divison Produces decimal numbers called float\n",
    "#if you'd rather discard the fractional part and do integer division,you can use a double slash(floor division)\n",
    "14//7"
   ]
  },
  {
   "cell_type": "code",
   "execution_count": 8,
   "metadata": {},
   "outputs": [
    {
     "data": {
      "text/plain": [
       "-1"
      ]
     },
     "execution_count": 8,
     "metadata": {},
     "output_type": "execute_result"
    }
   ],
   "source": [
    "#ok lets see multiplication and substarction as well\n",
    "12-13"
   ]
  },
  {
   "cell_type": "code",
   "execution_count": 9,
   "metadata": {},
   "outputs": [
    {
     "data": {
      "text/plain": [
       "144"
      ]
     },
     "execution_count": 9,
     "metadata": {},
     "output_type": "execute_result"
    }
   ],
   "source": [
    "12*12"
   ]
  },
  {
   "cell_type": "code",
   "execution_count": 10,
   "metadata": {},
   "outputs": [
    {
     "data": {
      "text/plain": [
       "1"
      ]
     },
     "execution_count": 10,
     "metadata": {},
     "output_type": "execute_result"
    }
   ],
   "source": [
    "#when you performed floor division you will get quotient part what reminder so here it is using modulus operator\n",
    "15%7"
   ]
  },
  {
   "cell_type": "code",
   "execution_count": 11,
   "metadata": {},
   "outputs": [
    {
     "name": "stdout",
     "output_type": "stream",
     "text": [
      "1\n",
      "-2\n",
      "2\n",
      "-1\n"
     ]
    }
   ],
   "source": [
    "print(10%3)\n",
    "print(10%-3)\n",
    "print(-10%3)\n",
    "print(-10%-3)"
   ]
  },
  {
   "cell_type": "code",
   "execution_count": 12,
   "metadata": {},
   "outputs": [
    {
     "name": "stdout",
     "output_type": "stream",
     "text": [
      "3\n",
      "-4\n",
      "-4\n",
      "3\n"
     ]
    }
   ],
   "source": [
    "print(10//3)\n",
    "print(10//-3)\n",
    "print(-10//3)\n",
    "print(-10//-3)"
   ]
  },
  {
   "cell_type": "code",
   "execution_count": 16,
   "metadata": {},
   "outputs": [
    {
     "name": "stdout",
     "output_type": "stream",
     "text": [
      "4\n",
      "-4\n",
      "4\n"
     ]
    }
   ],
   "source": [
    "#last operator we'll look at is the exponentation (or power) operator.\n",
    "print(2**2)#2 power 2\n",
    "print(-2**2) \n",
    "print((-2)**2)"
   ]
  },
  {
   "cell_type": "code",
   "execution_count": 17,
   "metadata": {},
   "outputs": [],
   "source": [
    "#lets talk about hexadecimals,octals and binary\n"
   ]
  },
  {
   "cell_type": "code",
   "execution_count": 27,
   "metadata": {},
   "outputs": [
    {
     "name": "stdout",
     "output_type": "stream",
     "text": [
      "175\n",
      "128\n",
      "78\n"
     ]
    }
   ],
   "source": [
    "print(0xAF) #0x represents hexadecimal representation hex of a is 10 and f is 15\n",
    "print(0o200)#0o represents octal\n",
    "print(0b1001110) #0b represents binary"
   ]
  },
  {
   "cell_type": "markdown",
   "metadata": {},
   "source": [
    "<h3> >>>>Comparision Operators<<<< </h3>"
   ]
  },
  {
   "cell_type": "code",
   "execution_count": 34,
   "metadata": {},
   "outputs": [
    {
     "name": "stdout",
     "output_type": "stream",
     "text": [
      "True\n",
      "True\n",
      "False\n"
     ]
    }
   ],
   "source": [
    "#Lets see comparison operators in python\n",
    "#first comparision operator - ' == ' -->Equality Test\n",
    "print(5==5)#obviously 5 is equal to 5\n",
    "print(5==10/2) #well 5 is equal to 5.0 (10/2) is 5.0 not 5 but still equal\n",
    "print(10/3==10//3)#but here 10/3 is 3.33333... and 10//3 is 3 so it is not equal so false"
   ]
  },
  {
   "cell_type": "code",
   "execution_count": 33,
   "metadata": {},
   "outputs": [
    {
     "name": "stdout",
     "output_type": "stream",
     "text": [
      "True\n",
      "False\n",
      "True\n"
     ]
    }
   ],
   "source": [
    "#second comparision operator - ' != ' Inequality Test\n",
    "print(5!=6)#obviously 5 is not equal to 6 so true\n",
    "print(5!=10/2) #well 5 is equal to 5.0 (10/2) is 5.0 not 5 but still equal but here we are checking is 5 and 5.0 are different it returns false indicating both are equal\n",
    "print(10/3!=10//3)#but here 10/3 is 3.33333... and 10//3 is 3 so it is not equal so true"
   ]
  },
  {
   "cell_type": "code",
   "execution_count": 36,
   "metadata": {},
   "outputs": [
    {
     "name": "stdout",
     "output_type": "stream",
     "text": [
      "True\n",
      "False\n",
      "False\n"
     ]
    }
   ],
   "source": [
    "#third comparision operator - '<' Lesser Than\n",
    "print(5<6) #checking if 5 is less than 6 or not obviously 5 is less than 6 so true\n",
    "print(6<6) #checking if 6 is less than 6 or not .. 6 is not less than 6 .. a number cant be greater or less than the same number right so its false\n",
    "print(6<5) #checking if 6 is less than 5 or not well 6 is greater than 5 so false"
   ]
  },
  {
   "cell_type": "code",
   "execution_count": 37,
   "metadata": {},
   "outputs": [
    {
     "name": "stdout",
     "output_type": "stream",
     "text": [
      "False\n",
      "False\n",
      "True\n"
     ]
    }
   ],
   "source": [
    "#fourth comparision operator - '<' Greater Than\n",
    "print(5>6) #checking if 5 is greater than 6 or not but 5 is less than 6 so false\n",
    "print(6>6) #checking if 6 is greater than 6 or not .. 6 is not less than 6 .. a number cant be greater or less than the same number right so its false\n",
    "print(6>5) #checking if 6 is greater than 5 or not well 6 is greater than 5 so true"
   ]
  },
  {
   "cell_type": "code",
   "execution_count": 38,
   "metadata": {},
   "outputs": [
    {
     "name": "stdout",
     "output_type": "stream",
     "text": [
      "True\n",
      "True\n",
      "False\n"
     ]
    }
   ],
   "source": [
    "#third comparision operator - '<=' Lesser Than or equal to\n",
    "print(5<=6) #checking if 5 is less than 6 or equal to 6 or not obviously 5 is less than 6 but is not equal to six still true as it is less than 6\n",
    "print(6<=6) #checking if 6 is less than 6 or equal to 6 or not .. 6 is not less than 6 .. but it is equal to 6 so true\n",
    "print(6<=5) #checking if 6 is less than or equal to 5 or not 6 is neither less than 5 or equal to 5 so false"
   ]
  },
  {
   "cell_type": "code",
   "execution_count": 39,
   "metadata": {},
   "outputs": [
    {
     "name": "stdout",
     "output_type": "stream",
     "text": [
      "False\n",
      "True\n",
      "True\n"
     ]
    }
   ],
   "source": [
    "#third comparision operator - '>=' Greater Than or equal to\n",
    "print(5>=6) #checking if 5 is greater than 6 or equal to 6 or not ..5 is neither greater than 6 or equal to 5 so false\n",
    "print(6>=6) #checking if 6 is greater than 6 or equal to 6 or not .. 6 is not less than 6 .. but it is equal to 6 so true\n",
    "print(6>=5) #checking if 6 is greater than or equal to 5 or not.. 6 is not equal to 5 still true as 6 is greater than 5"
   ]
  },
  {
   "cell_type": "code",
   "execution_count": null,
   "metadata": {},
   "outputs": [],
   "source": []
  },
  {
   "cell_type": "markdown",
   "metadata": {},
   "source": [
    "<p>And Next Topic is Assignment Operators</p>\n",
    "<p>Before Going to that topic lets discuss about variables</p>\n",
    "<h1>Topic 3:Variables and Comments</h1>"
   ]
  },
  {
   "cell_type": "markdown",
   "metadata": {},
   "source": [
    "<h5><pre>In programming, a “variable” is a container in which a data value can be stored\n",
    "within the computer’s memory. The stored value can then be referenced using\n",
    "the variable’s name. The programmer can choose any name for a variable, except\n",
    "the Python keywords listed below, and it is good practice to choose meaningful names \n",
    "that reflect the variable’s content.</pre></h5>"
   ]
  },
  {
   "cell_type": "markdown",
   "metadata": {},
   "source": [
    "<h6><pre>\n",
    "False     None     True   and     as      assert    async     await   break   class\n",
    "continue  def      del    elif    else    except    finally   for     from    global\n",
    "if        import   in     is      lambda  nonlocal  not       or      pass    raise\n",
    "return    try      while  with    yield</pre></h6>"
   ]
  },
  {
   "cell_type": "markdown",
   "metadata": {},
   "source": [
    "<h3><pre>Data to be stored in a variable is assigned in a Python program declaration\n",
    "statement with the = assignment operator</pre></h3>"
   ]
  },
  {
   "cell_type": "code",
   "execution_count": 43,
   "metadata": {},
   "outputs": [],
   "source": [
    "#lets see who to create a variable \n",
    "\n",
    "A_GOOD_VARIABLE=44 #some value\n",
    "\n",
    "#its a good practice to declare variables with under scores and capitals ..\n"
   ]
  },
  {
   "cell_type": "markdown",
   "metadata": {},
   "source": [
    "<h3>Unlike some other languages, you can’t use a variable before you bind it to something. There is no “default \n",
    "value.”</h3>"
   ]
  },
  {
   "cell_type": "code",
   "execution_count": 44,
   "metadata": {},
   "outputs": [
    {
     "name": "stdout",
     "output_type": "stream",
     "text": [
      "44\n"
     ]
    }
   ],
   "source": [
    "#ok lets use that variable \n",
    "print(A_GOOD_VARIABLE)\n",
    "#outputs 44"
   ]
  },
  {
   "cell_type": "code",
   "execution_count": 45,
   "metadata": {},
   "outputs": [
    {
     "data": {
      "text/plain": [
       "440"
      ]
     },
     "execution_count": 45,
     "metadata": {},
     "output_type": "execute_result"
    }
   ],
   "source": [
    "A_GOOD_VARIABLE * 10"
   ]
  },
  {
   "cell_type": "code",
   "execution_count": 46,
   "metadata": {},
   "outputs": [
    {
     "data": {
      "text/plain": [
       "44"
      ]
     },
     "execution_count": 46,
     "metadata": {},
     "output_type": "execute_result"
    }
   ],
   "source": [
    "#this is just same as 44*10\n",
    "#but when we do this it doesnt  change the value of the variable\n",
    "#it is still 44\n",
    "A_GOOD_VARIABLE"
   ]
  },
  {
   "cell_type": "code",
   "execution_count": null,
   "metadata": {},
   "outputs": [],
   "source": []
  },
  {
   "cell_type": "markdown",
   "metadata": {},
   "source": [
    "<pre><h6>The stored value can then be referenced using the variable’s name, so that the\n",
    "statement print(A_GOOD_VARIABLE) will output the stored value 44. That variable can subsequently\n",
    "be assigned a different value, so its value can vary as the program proceeds –\n",
    "hence the term “variable”.</h6><br>\n",
    "<h5>In Python programming, a variable must be assigned an initial value\n",
    "(“initialized”) in the statement that declares it in a program – otherwise the\n",
    "interpreter will report a “not defined” error.</h5><br>\n",
    "Multiple variables can be initialized with a common value in a single statement\n",
    "using a sequence of = assignments. For example, to initialize variables named\n",
    "“a”, “b” and “c”, each with a numeric value of eight, like this:"
   ]
  },
  {
   "cell_type": "code",
   "execution_count": 47,
   "metadata": {},
   "outputs": [],
   "source": [
    "a=b=13"
   ]
  },
  {
   "cell_type": "code",
   "execution_count": 48,
   "metadata": {},
   "outputs": [
    {
     "data": {
      "text/plain": [
       "13"
      ]
     },
     "execution_count": 48,
     "metadata": {},
     "output_type": "execute_result"
    }
   ],
   "source": [
    "a"
   ]
  },
  {
   "cell_type": "code",
   "execution_count": 49,
   "metadata": {},
   "outputs": [
    {
     "data": {
      "text/plain": [
       "13"
      ]
     },
     "execution_count": 49,
     "metadata": {},
     "output_type": "execute_result"
    }
   ],
   "source": [
    "b"
   ]
  },
  {
   "cell_type": "code",
   "execution_count": 50,
   "metadata": {},
   "outputs": [
    {
     "data": {
      "text/plain": [
       "8"
      ]
     },
     "execution_count": 50,
     "metadata": {},
     "output_type": "execute_result"
    }
   ],
   "source": [
    "b=8\n",
    "b"
   ]
  },
  {
   "cell_type": "code",
   "execution_count": 51,
   "metadata": {},
   "outputs": [
    {
     "data": {
      "text/plain": [
       "13"
      ]
     },
     "execution_count": 51,
     "metadata": {},
     "output_type": "execute_result"
    }
   ],
   "source": [
    "a"
   ]
  },
  {
   "cell_type": "code",
   "execution_count": 52,
   "metadata": {},
   "outputs": [],
   "source": [
    "#initially a,b are two different locations but just assigned with a common value\n",
    "#changing any of a,b  doesnt effect other variable "
   ]
  },
  {
   "cell_type": "code",
   "execution_count": 53,
   "metadata": {},
   "outputs": [
    {
     "name": "stdout",
     "output_type": "stream",
     "text": [
      "21\n"
     ]
    }
   ],
   "source": [
    "#you can perform any operation with variables\n",
    "#for example:\n",
    "print(a+b)"
   ]
  },
  {
   "cell_type": "markdown",
   "metadata": {},
   "source": [
    "we will discuss data types ahead \n",
    "<h1 style=\"color:navy\">End Of Day1</h1>\n",
    "<h3><pre style=\"color:darkgreen;\">          ---- D GIREESH @dg <pre></h3>"
   ]
  }
 ],
 "metadata": {
  "kernelspec": {
   "display_name": "Python 3",
   "language": "python",
   "name": "python3"
  },
  "language_info": {
   "codemirror_mode": {
    "name": "ipython",
    "version": 3
   },
   "file_extension": ".py",
   "mimetype": "text/x-python",
   "name": "python",
   "nbconvert_exporter": "python",
   "pygments_lexer": "ipython3",
   "version": "3.8.5"
  }
 },
 "nbformat": 4,
 "nbformat_minor": 4
}
